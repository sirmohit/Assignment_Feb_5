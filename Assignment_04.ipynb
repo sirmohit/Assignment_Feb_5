{
 "cells": [
  {
   "cell_type": "markdown",
   "id": "e136da13",
   "metadata": {},
   "source": [
    "Q1. Explain Class and Object with respect to Object-Oriented Programming. Give a suitable example."
   ]
  },
  {
   "cell_type": "markdown",
   "id": "7fa136d9",
   "metadata": {},
   "source": [
    "Ans:- Class: A class is a blueprint or prototype that defines the variables and methods common to all objects of a particular  kind. \n",
    "             It acts as a template for creating objects.A class defines the properties and behaviors that its objects will have.\n",
    "             A class do no take memory area in the system.\n",
    "            \n",
    "      Obejct:An object is an instance of a class. \n",
    "             It is a runtime entity that combines data and methods. When a class is instantiated, an object is created. \n",
    "             Objects are the fundamental building blocks of OOP, and they represent real-world entities.\n",
    "             Object take memory area in the system."
   ]
  },
  {
   "cell_type": "markdown",
   "id": "0ac03277",
   "metadata": {},
   "source": [
    "Example"
   ]
  },
  {
   "cell_type": "code",
   "execution_count": 1,
   "id": "9da8f202",
   "metadata": {},
   "outputs": [],
   "source": [
    "# create class\n",
    "class Bike:\n",
    "    name = \"honda\"\n",
    "    gear = 2\n",
    "\n",
    "# create objects of class\n",
    "bike1 = Bike()\n",
    "# here \"Bike\" is a class name which is acting as a blue print of whole all the varible inside the class.\n",
    "# here \"bike1\" is a object of the class Bike."
   ]
  },
  {
   "cell_type": "markdown",
   "id": "0a0b6d5f",
   "metadata": {},
   "source": [
    "Q2. Name the four pillars of OOPs.\n"
   ]
  },
  {
   "cell_type": "markdown",
   "id": "35331e25",
   "metadata": {},
   "source": [
    "Ans: The four pillars of OOPS are: a)Inheritace  b)Polimorphism  c)Encapsulation  d)Abstraction"
   ]
  },
  {
   "cell_type": "markdown",
   "id": "7c61a8b4",
   "metadata": {},
   "source": [
    "Q3. Explain why the __init__() function is used. Give a suitable example."
   ]
  },
  {
   "cell_type": "markdown",
   "id": "acaa7af7",
   "metadata": {},
   "source": [
    "Ans:In Python, the __init__() method is a special method that gets called automatically when an object is instantiated \n",
    "    from a class. It is often referred to as a constructor.The __init__() method allows you to initialize the attributes of an object with values passed as arguments\n",
    "    during object creation."
   ]
  },
  {
   "cell_type": "markdown",
   "id": "a86900af",
   "metadata": {},
   "source": [
    "EXAMPLE"
   ]
  },
  {
   "cell_type": "code",
   "execution_count": 2,
   "id": "b0fff37b",
   "metadata": {},
   "outputs": [
    {
     "name": "stdout",
     "output_type": "stream",
     "text": [
      "I ran first\n",
      "I ran second\n",
      "Name: Audi R8\n"
     ]
    }
   ],
   "source": [
    "class Car:\n",
    "    # Constructor method (__init__) to initialize attributes\n",
    "    def __init__(self, name):\n",
    "        self.name = name     # Initializing name attribute\n",
    "        print(\"I ran first\") \n",
    " \n",
    "    def product(self):\n",
    "        print(\"I ran second\")\n",
    "        return (\"Name: \" + self.name)\n",
    " \n",
    "# Creating objects of the Car class with initial values \n",
    "C = Car('Audi R8')\n",
    "print(C.product())"
   ]
  },
  {
   "cell_type": "markdown",
   "id": "d21528c6",
   "metadata": {},
   "source": [
    "Q4. Why self is used in OOPs?"
   ]
  },
  {
   "cell_type": "markdown",
   "id": "d93d5e1f",
   "metadata": {},
   "source": [
    "Ans: The “self” keyword represents the instance of the class. It acts as a pointer which points to the variables.It is useful in method definitions and in variable initialization. \n",
    "     The “self” is explicitly used every time we define a method."
   ]
  },
  {
   "cell_type": "markdown",
   "id": "5a361e8d",
   "metadata": {},
   "source": [
    "Q5. What is inheritance? Give an example for each type of inheritance."
   ]
  },
  {
   "cell_type": "markdown",
   "id": "d75be163",
   "metadata": {},
   "source": [
    "Ans:Inheritace:-Inheritance is the one of the most important pillar of the OPPs in any programming language. It allows you to \n",
    "                inherit the properties of the super class(base class) to  sub class(child class).\n",
    "                Inheritance enables the child class to inherit the properties and behaviors (attributes and methods) of the\n",
    "                parent class and extend or modify them as needed. It supports the concept of \"is-a\" relationship,\n",
    "                where a derived class \"is-a\" specialized version of the base class.\n",
    "                \n",
    "    Types of Inheritance:\n",
    "    There are mainly four types of inheritance in Python:\n",
    "\n",
    "    1)Single Inheritance:\n",
    "    In single inheritance, a derived class inherits from only one base class.\n",
    "    2) Multiple Inheritance:\n",
    "    In multiple inheritance, a derived class inherits from more than one base class.\n",
    "    3) Multilevel Inheritance:\n",
    "    In multilevel inheritance, a derived class is created from another derived class. \n",
    "    It involves chaining of inheritance from one class to another.\n",
    "    4) Hierarchical Inheritance:\n",
    "    In hierarchical inheritance, multiple derived classes inherit from a single base class."
   ]
  },
  {
   "cell_type": "markdown",
   "id": "ccc896d9",
   "metadata": {},
   "source": [
    "EXAMPLE"
   ]
  },
  {
   "cell_type": "code",
   "execution_count": 3,
   "id": "68f898f1",
   "metadata": {},
   "outputs": [
    {
     "name": "stdout",
     "output_type": "stream",
     "text": [
      "Animal speaks\n",
      "Dog barks\n"
     ]
    }
   ],
   "source": [
    "# Single Inheritance Example\n",
    "class Animal:\n",
    "    def speak(self):\n",
    "        print(\"Animal speaks\")\n",
    "\n",
    "class Dog(Animal):  # Dog is a subclass inheriting from Animal\n",
    "    def bark(self):\n",
    "        print(\"Dog barks\")\n",
    "\n",
    "# Creating object of Dog class\n",
    "dog = Dog()\n",
    "dog.speak()  # Accessing method from the base class\n",
    "dog.bark()   # Accessing method from the derived class\n"
   ]
  },
  {
   "cell_type": "code",
   "execution_count": 4,
   "id": "05a9e650",
   "metadata": {},
   "outputs": [
    {
     "name": "stdout",
     "output_type": "stream",
     "text": [
      "I am in human class\n",
      "I am in Male class\n",
      "Mohit 1 java\n"
     ]
    }
   ],
   "source": [
    "#Example of  Multiple Inheritance\n",
    "class Human:\n",
    "    def __init__(self,heart):\n",
    "        print(\"I am in human class\")\n",
    "        self.heart  = heart\n",
    "    def eat(self):\n",
    "        print(\"I can eat\")\n",
    "    def work(self):\n",
    "        print(\"I can do any work\")\n",
    "class Male:\n",
    "    def __init__(self,name):\n",
    "        print(\"I am in Male class\")\n",
    "        self.name = name\n",
    "    def flirt(self):\n",
    "        print(\"I can flirt\")\n",
    "    def work(self):\n",
    "        print(\"I can code\")#if two method with the same name are define in two class in multiple inhritance then the child class which id used to inherit the class by sequence\n",
    "class Boy(Human,Male):#it will call the Human word method\n",
    "    def __init__(self,name,language,heart):\n",
    "        self.lan = language\n",
    "        Human.__init__(self,heart)\n",
    "        Male.__init__(self,name)\n",
    "    def work(self):\n",
    "        print(\"I can test\")\n",
    "        super().work()\n",
    "obj1 = Boy(\"Mohit\",\"java\",1)\n",
    "print(obj1.name,obj1.heart,obj1.lan)# At the time of calling attribute name should be same don't use name of positional args"
   ]
  },
  {
   "cell_type": "code",
   "execution_count": 5,
   "id": "50e30564",
   "metadata": {},
   "outputs": [
    {
     "name": "stdout",
     "output_type": "stream",
     "text": [
      "My name is Mohit\n",
      "I can work\n",
      "I can work\n",
      "I use to code\n",
      "True\n"
     ]
    }
   ],
   "source": [
    "# Example Multilevel Inheritance\n",
    "class Human:\n",
    "    can_breath = True\n",
    "    def __init__(self,name):\n",
    "        self.na = name\n",
    "        print(f\"My name is {name}\")\n",
    "    def eat(self):\n",
    "        print(\"I can eat\")\n",
    "    def work(self):\n",
    "        print(\"I can work\")\n",
    "class Male(Human):\n",
    "    def sleep(self):\n",
    "        print(\"Take sleep of 8 hours\")\n",
    "class Boy(Male):\n",
    "    def __init__(self,name):\n",
    "        Human.__init__(self,name)\n",
    "    def play(self):\n",
    "        print(\"I play cricket\")\n",
    "    def work(self):\n",
    "        # calling method of parent class which is being overrinden in child class by two ways\n",
    "        Human.work(self) # first way\n",
    "        super().work() #secod way\n",
    "        print(\"I use to code\")\n",
    "obj = Boy(\"Mohit\")\n",
    "obj.work()\n",
    "obj.na\n",
    "print(obj.can_breath)"
   ]
  },
  {
   "cell_type": "code",
   "execution_count": 6,
   "id": "8e8d5401",
   "metadata": {},
   "outputs": [
    {
     "name": "stdout",
     "output_type": "stream",
     "text": [
      "Animal speaks\n",
      "Cat meows\n",
      "Animal speaks\n",
      "Lion roars\n"
     ]
    }
   ],
   "source": [
    "# Hierarchical Inheritance Example\n",
    "class Animal:\n",
    "    def speak(self):\n",
    "        print(\"Animal speaks\")\n",
    "\n",
    "class Cat(Animal):  # Cat is a subclass inheriting from Animal\n",
    "    def meow(self):\n",
    "        print(\"Cat meows\")\n",
    "\n",
    "class Lion(Animal):  # Lion is another subclass inheriting from Animal\n",
    "    def roar(self):\n",
    "        print(\"Lion roars\")\n",
    "\n",
    "# Creating objects of Cat and Lion classes\n",
    "cat = Cat()\n",
    "lion = Lion()\n",
    "\n",
    "cat.speak()  # Accessing method from the base class\n",
    "cat.meow()   # Accessing method from the Cat class\n",
    "\n",
    "lion.speak()  # Accessing method from the base class\n",
    "lion.roar()   # Accessing method from the Lion class\n"
   ]
  },
  {
   "cell_type": "code",
   "execution_count": null,
   "id": "ba830670",
   "metadata": {},
   "outputs": [],
   "source": []
  }
 ],
 "metadata": {
  "kernelspec": {
   "display_name": "Python 3 (ipykernel)",
   "language": "python",
   "name": "python3"
  },
  "language_info": {
   "codemirror_mode": {
    "name": "ipython",
    "version": 3
   },
   "file_extension": ".py",
   "mimetype": "text/x-python",
   "name": "python",
   "nbconvert_exporter": "python",
   "pygments_lexer": "ipython3",
   "version": "3.9.13"
  }
 },
 "nbformat": 4,
 "nbformat_minor": 5
}
